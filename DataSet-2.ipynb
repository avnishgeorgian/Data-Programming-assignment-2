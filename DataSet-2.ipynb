{
 "cells": [
  {
   "cell_type": "code",
   "execution_count": null,
   "id": "337c74e9",
   "metadata": {},
   "outputs": [],
   "source": [
    "Question 1\n",
    "Consider the following Python module:\n",
    "a = 0\n",
    "def b():\n",
    " global a\n",
    " a = c(a)\n",
    "def c(a):\n",
    " return a + 2\n",
    "After importing the module into the interpreter, you execute:\n",
    ">>> b()\n",
    ">>> b()\n",
    ">>> b()\n",
    ">>> a\n",
    "?\n",
    "What value is displayed when the last expression (a) is evaluated? Explain your \n",
    "answer by indicating what happens in every executed statement"
   ]
  },
  {
   "cell_type": "code",
   "execution_count": 1,
   "id": "9a4d77a5",
   "metadata": {},
   "outputs": [
    {
     "name": "stdout",
     "output_type": "stream",
     "text": [
      "2\n",
      "4\n",
      "6\n",
      "6\n"
     ]
    }
   ],
   "source": [
    "a = 0\n",
    "def b():\n",
    "    global a\n",
    "    a = c(a)\n",
    "    print(a)\n",
    "\n",
    "def c(a):\n",
    "    return a + 2\n",
    "\n",
    "b()\n",
    "b()\n",
    "b()\n",
    "print(a)"
   ]
  },
  {
   "cell_type": "code",
   "execution_count": null,
   "id": "c054f30f",
   "metadata": {},
   "outputs": [],
   "source": [
    "Q-1 \n",
    "The value of the last expression when evaluated is 6.\n",
    "When the function b is executed, it assigns a global variable 'a' having initial value 0. It then executes the function c which it then increments the value by 2 and assigns it's return value back to a, which in this case is 2. This process is repeated 2 more times."
   ]
  },
  {
   "cell_type": "code",
   "execution_count": null,
   "id": "eb58dc5b",
   "metadata": {},
   "outputs": [],
   "source": [
    "Question 2\n",
    "Function fileLength(), given to you, takes the name of a file as input and returns \n",
    "the length of the file:\n",
    ">>> fileLength('midterm.py')\n",
    "284\n",
    ">>> fileLength('idterm.py')\n",
    "Traceback (most recent call last):\n",
    "File \"<pyshell#34>\", line 1, in <module>\n",
    " fileLength('idterm.py')\n",
    "File \"/Users/me/midterm.py\", line 3, in fileLength\n",
    " infile = open(filename)\n",
    "FileNotFoundError: [Errno 2] No such file or directory: \n",
    "'idterm.py'\n",
    "As shown above, if the file cannot be found by the interpreter or if it cannot be read \n",
    "as a text file, an exception will be raised. Modify function fileLength() so that a \n",
    "friendly message is printed instead:\n",
    ">>> fileLength('midterm.py')\n",
    "358\n",
    ">>> fileLength('idterm.py')\n",
    "File idterm.py not found."
   ]
  },
  {
   "cell_type": "code",
   "execution_count": 2,
   "id": "fc5d47cc",
   "metadata": {},
   "outputs": [
    {
     "name": "stdout",
     "output_type": "stream",
     "text": [
      "The file sam.txt is either missing from path or the name is incorrect\n",
      "The file sam.py is either missing from path or the name is incorrect\n"
     ]
    }
   ],
   "source": [
    "def fileLength(get_file_name):\n",
    "\n",
    "    try:\n",
    "        get_file = open(get_file_name,\"r\")\n",
    "    except FileNotFoundError as e:\n",
    "        print(\"The file {0} is either missing from path or the name is incorrect\".format(get_file_name))\n",
    "        return\n",
    "    read_file = get_file.read()\n",
    "    print(len(read_file))\n",
    "\n",
    "fileLength(\"sam.txt\")\n",
    "fileLength(\"sam.py\")"
   ]
  },
  {
   "cell_type": "code",
   "execution_count": null,
   "id": "7a0084c7",
   "metadata": {},
   "outputs": [],
   "source": [
    "Question 3\n",
    "Write a class named Marsupial that can be used as shown below:\n",
    ">>> m = Marsupial()\n",
    ">>> m.put_in_pouch('doll')\n",
    ">>> m.put_in_pouch('firetruck')\n",
    ">>> m.put_in_pouch('kitten')\n",
    ">>> m.pouch_contents()\n",
    "['doll', 'firetruck', 'kitten']\n",
    "Now write a class named Kangaroo as a subclass of Marsupial that inherits all the \n",
    "attributes of Marsupial and also:\n",
    "a. extends the Marsupial __init__ constructor to take, as input, the \n",
    "coordinates x and y of the Kangaroo object,\n",
    "b. supports method jump that takes number values dx and dy as input and \n",
    "moves the kangaroo by dx units along the x-axis and by dy units along the y\u0002axis, and\n",
    "c. overloads the __str__ operator so it behaves as shown below.\n",
    ">>> k = Kangaroo(0,0)\n",
    ">>> print(k)\n",
    "I am a Kangaroo located at coordinates (0,0)\n",
    ">>> k.put_in_pouch('doll')\n",
    ">>> k.put_in_pouch('firetruck')\n",
    ">>> k.put_in_pouch('kitten')\n",
    ">>> k.pouch_contents()\n",
    "['doll', 'firetruck', 'kitten']\n",
    ">>> k.jump(1,0)\n",
    ">>> k.jump(1,0)\n",
    ">>> k.jump(1,0)\n",
    ">>> print(k)\n",
    "I am a Kangaroo located at coordinates (3,0)\n"
   ]
  },
  {
   "cell_type": "code",
   "execution_count": 3,
   "id": "c14df1b9",
   "metadata": {},
   "outputs": [
    {
     "name": "stdout",
     "output_type": "stream",
     "text": [
      "['doll', 'firetruck', 'kitten']\n",
      "I am at Kangaroo located at coordinates (0,0)\n",
      "['doll', 'firetruck', 'kitten']\n",
      "I am at Kangaroo located at coordinates (3,0)\n"
     ]
    }
   ],
   "source": [
    "class Marsupial:\n",
    "\n",
    "    def __init__(self):\n",
    "        self.collect_list = []\n",
    "    def put_in_pouch(self,get_value):\n",
    "        self.collect_list.append(get_value)\n",
    "    def pouch_contents(self):\n",
    "        print(self.collect_list)\n",
    "\n",
    "class Kangaroo(Marsupial):\n",
    "    \n",
    "    def __init__(self,get_x_value,get_y_value):\n",
    "        super().__init__()\n",
    "        self.x_value = get_x_value\n",
    "        self.y_value = get_y_value\n",
    "\n",
    "    def jump(self,get_x_value,get_y_value):\n",
    "        self.x_value += get_x_value\n",
    "        self.y_value += get_y_value\n",
    "    \n",
    "    def __str__(self):\n",
    "        return \"I am at Kangaroo located at coordinates ({0},{1})\".format(self.x_value,self.y_value)\n",
    "\n",
    "m = Marsupial()\n",
    "m.put_in_pouch('doll')\n",
    "m.put_in_pouch('firetruck')\n",
    "m.put_in_pouch('kitten')\n",
    "m.pouch_contents()\n",
    "k = Kangaroo(0,0)\n",
    "print(k)\n",
    "k.put_in_pouch('doll')\n",
    "k.put_in_pouch('firetruck')\n",
    "k.put_in_pouch('kitten')\n",
    "k.pouch_contents()\n",
    "k.jump(1,0)\n",
    "k.jump(1,0)\n",
    "k.jump(1,0)\n",
    "print(k)"
   ]
  },
  {
   "cell_type": "code",
   "execution_count": null,
   "id": "ae60b77e",
   "metadata": {},
   "outputs": [],
   "source": [
    "Question 4\n",
    "Write function collatz() that takes a positive integer x as input and prints the \n",
    "Collatz sequence starting at x. A Collatz sequence is obtained by repeatedly applying \n",
    "this rule to the previous number x in the sequence:\n",
    "x = {\n",
    "𝑥/2 𝑖𝑓 𝑥 𝑖𝑠 𝑒𝑣𝑒𝑛\n",
    "3𝑥 + 1 𝑖𝑓 𝑥 𝑖𝑠 𝑜𝑑𝑑\n",
    "Your function should stop when the sequence gets to number 1. Your \n",
    "implementation must be recursive, without any loops.\n",
    ">>> collatz(1)\n",
    "1\n",
    ">>> collatz(10)\n",
    "10\n",
    "5\n",
    "16\n",
    "8\n",
    "4\n",
    "2\n",
    "1"
   ]
  },
  {
   "cell_type": "code",
   "execution_count": null,
   "id": "8bebd09f",
   "metadata": {},
   "outputs": [],
   "source": [
    "def collatz(get_value):\n",
    "    x = get_value\n",
    "    while x != 1:\n",
    "        print(x)\n",
    "        if x % 2 == 0:\n",
    "            x = int(x / 2)\n",
    "        else:\n",
    "            x = int(3 * x + 1)\n",
    "    print(1)\n",
    "\n",
    "collatz(10)"
   ]
  },
  {
   "cell_type": "code",
   "execution_count": null,
   "id": "3e7fcd29",
   "metadata": {},
   "outputs": [],
   "source": [
    "Question 5\n",
    "Write a recursive method binary() that takes a non-negative \n",
    "integer n and prints the binary representation of integer n.\n",
    ">>> binary(0)\n",
    "0\n",
    ">>> binary(1)\n",
    "1\n",
    ">>> binary(3)\n",
    "11\n",
    ">>> binary(9)\n",
    "1001"
   ]
  },
  {
   "cell_type": "code",
   "execution_count": 4,
   "id": "46b62371",
   "metadata": {},
   "outputs": [
    {
     "name": "stdout",
     "output_type": "stream",
     "text": [
      "0\n",
      "1\n",
      "11\n",
      "1001\n"
     ]
    }
   ],
   "source": [
    "def binary(get_value, binary_representation=\"\"):\n",
    "    if get_value < 0:\n",
    "        print(\"Input must be a non-negative integer.\")\n",
    "        return\n",
    "    elif get_value == 0:\n",
    "        if binary_representation == \"\":\n",
    "            print(0)\n",
    "        else:\n",
    "            print(binary_representation[::-1])\n",
    "    else:\n",
    "        remainder = get_value % 2\n",
    "        binary_representation += str(remainder)\n",
    "        get_value = int(get_value // 2)\n",
    "        binary(get_value, binary_representation)\n",
    "\n",
    "binary(0)\n",
    "binary(1)\n",
    "binary(3)\n",
    "binary(9)"
   ]
  },
  {
   "cell_type": "code",
   "execution_count": null,
   "id": "3a8fc3e7",
   "metadata": {},
   "outputs": [],
   "source": [
    "Write SQL queries on the below database table that return: \n",
    "a) All the temperature data.\n",
    "b) All the cities, but without repetition.\n",
    "c) All the records for India.\n",
    "d) All the Fall records.\n",
    "e) The city, country, and season for which the average rainfall is between 200 \n",
    "and 400 millimeters.\n",
    "f) The city and country for which the average Fall temperature is above 20 \n",
    "degrees, in increasing temperature order.\n",
    "g) The total annual rainfall for Cairo.\n",
    "h) The total rainfall for each season.\n",
    "City Country Season Temperature \n",
    "(C)\n",
    "Rainfall \n",
    "(mm)\n",
    "Mumbai India Winter 24.8 5.9 \n",
    "Mumbai India Spring 28.4 16.2 \n",
    "Mumbai India Summer 27.9 1549.4 \n",
    "Mumbai India Fall 27.6 346.0 \n",
    "London United Kingdom Winter 4.2 207.7 \n",
    "London United Kingdom Spring 8.3 169.6 \n",
    "London United Kingdom Summer 15.7 157.0 \n",
    "London United Kingdom Fall 10.4 218.5 \n",
    "Cairo Egypt Winter 13.6 16.5 \n",
    "Cairo Egypt Spring 20.7 6.5 \n",
    "Cairo Egypt Summer 27.7 0.1 \n",
    "Cairo Egypt Fall 22.2 4.5 \n"
   ]
  },
  {
   "cell_type": "code",
   "execution_count": null,
   "id": "c4fde9cf",
   "metadata": {},
   "outputs": [],
   "source": [
    "#a. All the temperature data.\n",
    "\n",
    "SELECT temperature FROM weather_data;"
   ]
  },
  {
   "cell_type": "code",
   "execution_count": null,
   "id": "4c52f210",
   "metadata": {},
   "outputs": [],
   "source": [
    "#b. All the cities, but without repetition.\n",
    "\n",
    "SELECT DISTINCT city FROM weather_data;"
   ]
  },
  {
   "cell_type": "code",
   "execution_count": null,
   "id": "4a3c7803",
   "metadata": {},
   "outputs": [],
   "source": [
    "#c. All the records for India.\n",
    "\n",
    "SELECT * FROM weather_data WHERE country = 'India';"
   ]
  },
  {
   "cell_type": "code",
   "execution_count": null,
   "id": "a5d04d49",
   "metadata": {},
   "outputs": [],
   "source": [
    "#d. All the Fall records.\n",
    "\n",
    "SELECT * FROM weather_data WHERE season = 'Fall';"
   ]
  },
  {
   "cell_type": "code",
   "execution_count": null,
   "id": "9ec0456a",
   "metadata": {},
   "outputs": [],
   "source": [
    "#e. The city, country, and season for which the average rainfall is between 200 and 400 millimeters.\n",
    "\n",
    "SELECT city, country, season\n",
    "FROM weather_data\n",
    "GROUP BY city, country, season\n",
    "HAVING AVG(rainfall) BETWEEN 200 AND 400;"
   ]
  },
  {
   "cell_type": "code",
   "execution_count": null,
   "id": "ec2fee70",
   "metadata": {},
   "outputs": [],
   "source": [
    "#f. The city and country for which the average Fall temperature is above 20 degrees, in increasing temperature order.\n",
    "\n",
    "SELECT city, country\n",
    "FROM weather_data\n",
    "WHERE season = 'Fall'\n",
    "GROUP BY city, country\n",
    "HAVING AVG(temperature) > 20\n",
    "ORDER BY AVG(temperature) ASC;"
   ]
  },
  {
   "cell_type": "code",
   "execution_count": null,
   "id": "52485acc",
   "metadata": {},
   "outputs": [],
   "source": [
    "#g. The total annual rainfall for Cairo.\n",
    "\n",
    "SELECT SUM(rainfall) AS total_annual_rainfall\n",
    "FROM weather_data\n",
    "WHERE city = 'Cairo';"
   ]
  },
  {
   "cell_type": "code",
   "execution_count": null,
   "id": "f63413fd",
   "metadata": {},
   "outputs": [],
   "source": [
    "#h. The total rainfall for each season.\n",
    "\n",
    "SELECT season, SUM(rainfall) AS total_rainfall\n",
    "FROM weather_data\n",
    "GROUP BY season;"
   ]
  },
  {
   "cell_type": "code",
   "execution_count": null,
   "id": "abdbc8b0",
   "metadata": {},
   "outputs": [],
   "source": [
    "Question 9\n",
    ". Suppose list words is defined as follows:\n",
    ">>> words = ['The', 'quick', 'brown', 'fox', 'jumps', 'over', \n",
    "'the', 'lazy', 'dog']\n",
    "Write list comprehension expressions that use list words and generate the following \n",
    "lists:\n",
    "a) ['THE', 'QUICK', 'BROWN', 'FOX', 'JUMPS', 'OVER', 'THE', \n",
    "'LAZY', 'DOG']\n",
    "b) ['the', 'quick', 'brown', 'fox', 'jumps', 'over', 'the', \n",
    "'lazy', 'dog']\n",
    "c) [3, 5, 5, 3, 5, 4, 3, 4, 3] (the list of lengths of words in list \n",
    "words).\n",
    "d) [['THE', 'the', 3], ['QUICK', 'quick', 5], ['BROWN', \n",
    "'brown', 5], ['FOX', 'fox', 3], ['JUMPS', 'jumps', 5], \n",
    "['OVER', 'over', 4], ['THE', 'the', 3], ['LAZY', 'lazy', \n",
    "4], ['DOG', 'dog', 3]] (the list containing a list for every word of list \n",
    "words, where each list contains the word in uppercase and lowercase and the \n",
    "length of the word.)\n",
    "e) ['The', 'quick', 'brown', 'fox', 'jumps', 'over', 'the', \n",
    "'lazy', 'dog'] (the list of words in list words containing 4 or more \n",
    "characters.)"
   ]
  },
  {
   "cell_type": "code",
   "execution_count": 5,
   "id": "c635e504",
   "metadata": {},
   "outputs": [
    {
     "name": "stdout",
     "output_type": "stream",
     "text": [
      "a. ['THE', 'QUICK', 'BROWN', 'FOX', 'JUMPS', 'OVER', 'THE', 'LAZY', 'DOG']\n",
      "b. ['the', 'quick', 'brown', 'fox', 'jumps', 'over', 'the', 'lazy', 'dog']\n",
      "c. [3, 5, 5, 3, 5, 4, 3, 4, 3]\n",
      "d. [['THE', 'the', 3], ['QUICK', 'quick', 5], ['BROWN', 'brown', 5], ['FOX', 'fox', 3], ['JUMPS', 'jumps', 5], ['OVER', 'over', 4], ['THE', 'the', 3], ['LAZY', 'lazy', 4], ['DOG', 'dog', 3]]\n",
      "e. ['quick', 'brown', 'jumps', 'over', 'lazy']\n"
     ]
    }
   ],
   "source": [
    "words = ['The', 'quick', 'brown', 'fox', 'jumps', 'over', 'the', 'lazy', 'dog']\n",
    "uppercase_words = [word.upper() for word in words]\n",
    "lowercase_words = [word.lower() for word in words]\n",
    "word_lengths = [len(word) for word in words]\n",
    "word_info = [[word.upper(), word.lower(), len(word)] for word in words]\n",
    "four_or_more_characters = [word for word in words if len(word) >= 4]\n",
    "print(\"a.\", uppercase_words)\n",
    "print(\"b.\", lowercase_words)\n",
    "print(\"c.\", word_lengths)\n",
    "print(\"d.\", word_info)\n",
    "print(\"e.\", four_or_more_characters)"
   ]
  },
  {
   "cell_type": "code",
   "execution_count": null,
   "id": "8381f6f6",
   "metadata": {},
   "outputs": [],
   "source": []
  }
 ],
 "metadata": {
  "kernelspec": {
   "display_name": "Python 3 (ipykernel)",
   "language": "python",
   "name": "python3"
  },
  "language_info": {
   "codemirror_mode": {
    "name": "ipython",
    "version": 3
   },
   "file_extension": ".py",
   "mimetype": "text/x-python",
   "name": "python",
   "nbconvert_exporter": "python",
   "pygments_lexer": "ipython3",
   "version": "3.11.5"
  }
 },
 "nbformat": 4,
 "nbformat_minor": 5
}
